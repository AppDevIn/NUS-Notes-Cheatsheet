{
  "cells": [
    {
      "cell_type": "code",
      "execution_count": 1,
      "metadata": {
        "id": "dzjy0OWrd1vi"
      },
      "outputs": [],
      "source": [
        "from collections import OrderedDict\n",
        "import math\n",
        "\n",
        "import matplotlib.pyplot as plt\n",
        "from matplotlib.ticker import FormatStrFormatter\n",
        "import numpy as np\n",
        "import torch\n",
        "import torch.nn as nn\n",
        "\n",
        "%matplotlib inline"
      ]
    },
    {
      "cell_type": "markdown",
      "metadata": {
        "id": "MOIS1dwEe_hb"
      },
      "source": [
        "# Helper Functions"
      ]
    },
    {
      "cell_type": "code",
      "execution_count": 2,
      "metadata": {
        "id": "T5ZZ33C1d5Jd"
      },
      "outputs": [],
      "source": [
        "torch.manual_seed(2109)\n",
        "\n",
        "def compute_conv_dims(h, w, k_size, padding = 0, stride = 1):\n",
        "    hp = int(math.floor((h - k_size + 2 * padding) / stride) + 1)\n",
        "    wp = int(math.floor((w - k_size + 2 * padding) / stride) + 1)\n",
        "    \n",
        "    return hp, wp\n",
        "\n",
        "def conv2d(img, kernel, padding = 0, stride = 1):\n",
        "    h, w = img.shape\n",
        "    size = kernel.shape[0]\n",
        "    \n",
        "    hp, wp = compute_conv_dims(h, w, size, padding, stride)\n",
        "    new_img = torch.zeros(size=(hp, wp))\n",
        "    \n",
        "    for i in range(0, h, stride):\n",
        "        if i > h - size:\n",
        "            break\n",
        "        if i % stride == 0:\n",
        "            for j in range(0, w, stride):\n",
        "                if j > w - size:\n",
        "                    break\n",
        "                try:\n",
        "                    if j % stride == 0:\n",
        "                        out = (kernel * img[i:i+size, j:j+size]).sum()\n",
        "                        new_img[i][j] = out\n",
        "                except:\n",
        "                    break\n",
        "            \n",
        "    return new_img"
      ]
    },
    {
      "attachments": {},
      "cell_type": "markdown",
      "metadata": {
        "id": "Ukzyb8_rgZCa"
      },
      "source": [
        "# Question 1a"
      ]
    },
    {
      "cell_type": "code",
      "execution_count": 3,
      "metadata": {
        "colab": {
          "base_uri": "https://localhost:8080/"
        },
        "id": "N3Uwr4jJd7C8",
        "outputId": "c79f1773-d767-4c48-92ca-f3d88090158b"
      },
      "outputs": [
        {
          "name": "stdout",
          "output_type": "stream",
          "text": [
            "Image Output:  tensor([[-2.6000, -2.6000, -2.8000],\n",
            "        [-0.2000,  0.1000,  0.1000],\n",
            "        [ 2.8000,  2.6000,  2.7000]])\n",
            "Output Shape:  torch.Size([3, 3])\n"
          ]
        }
      ],
      "source": [
        "x = np.array([[0.1, 0.2, 0.1, 0.1, 0],\n",
        "              [0.8, 0.9, 1, 1, 0.9],\n",
        "              [1, 1, 1, 1, 1],\n",
        "              [0.9, 1, 1, 0.8, 1],\n",
        "              [0, 0.1, 0.1, 0.2, 0]])\n",
        "kernel = np.array([[1, 1, 1],\n",
        "                   [0, 0, 0],\n",
        "                   [-1, -1, -1]])\n",
        "output = conv2d(x, kernel)\n",
        "print('Image Output: ', output)\n",
        "print('Output Shape: ', output.shape)"
      ]
    },
    {
      "attachments": {},
      "cell_type": "markdown",
      "metadata": {
        "id": "FI4gmmSxfDiu"
      },
      "source": [
        "# Question 1b"
      ]
    },
    {
      "cell_type": "code",
      "execution_count": 4,
      "metadata": {
        "colab": {
          "base_uri": "https://localhost:8080/"
        },
        "id": "GQBaeBvUeW1A",
        "outputId": "3bfda036-7f92-437a-de0b-b9d4cb61b6e3"
      },
      "outputs": [
        {
          "name": "stdout",
          "output_type": "stream",
          "text": [
            "Output Shape : (54, 54)\n"
          ]
        }
      ],
      "source": [
        "h_image = w_image = 224\n",
        "h_kernel = w_kernel = 11\n",
        "print('Output Shape :', compute_conv_dims(h_image, w_image, h_kernel, padding = 0, stride = 4))"
      ]
    }
  ],
  "metadata": {
    "colab": {
      "collapsed_sections": [],
      "provenance": []
    },
    "kernelspec": {
      "display_name": "Python 3.9.0",
      "language": "python",
      "name": "python3"
    },
    "language_info": {
      "codemirror_mode": {
        "name": "ipython",
        "version": 3
      },
      "file_extension": ".py",
      "mimetype": "text/x-python",
      "name": "python",
      "nbconvert_exporter": "python",
      "pygments_lexer": "ipython3",
      "version": "3.9.0"
    },
    "vscode": {
      "interpreter": {
        "hash": "a47b0d3180807a7345921c5bfd59bc0d8c625f45df1cb8eb768eeea20e68f72e"
      }
    }
  },
  "nbformat": 4,
  "nbformat_minor": 0
}
